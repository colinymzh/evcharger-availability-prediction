{
 "cells": [
  {
   "cell_type": "code",
   "execution_count": 1,
   "id": "c52ba3a4-721c-45eb-9569-d810150b198c",
   "metadata": {},
   "outputs": [
    {
     "name": "stdout",
     "output_type": "stream",
     "text": [
      "随机森林模型已成功加载\n"
     ]
    }
   ],
   "source": [
    "import joblib\n",
    "import os\n",
    "\n",
    "# 指定模型所在的目录和文件名\n",
    "model_directory = 'saved_models'\n",
    "model_filename = 'random_forest_model.joblib'\n",
    "\n",
    "# 完整的模型加载路径\n",
    "model_path = os.path.join(model_directory, model_filename)\n",
    "\n",
    "# 加载随机森林模型\n",
    "loaded_rf = joblib.load(model_path)\n",
    "\n",
    "print(\"随机森林模型已成功加载\")"
   ]
  },
  {
   "cell_type": "code",
   "execution_count": 2,
   "id": "c182b392-cf09-47ed-abef-d0c7f2aba7ef",
   "metadata": {},
   "outputs": [
    {
     "name": "stderr",
     "output_type": "stream",
     "text": [
      "/var/folders/65/gwq9096x7_dbpj8wqbnt8gy00000gn/T/ipykernel_1067/986144611.py:12: DtypeWarning: Columns (1) have mixed types. Specify dtype option on import or set low_memory=False.\n",
      "  df = pd.read_csv('cleaned_data/cleaned_charging_station_data.csv')\n"
     ]
    }
   ],
   "source": [
    "# 导入必要的库\n",
    "import pandas as pd\n",
    "import numpy as np\n",
    "import pandas as pd\n",
    "import numpy as np\n",
    "from sklearn.model_selection import train_test_split, cross_val_score\n",
    "from sklearn.ensemble import RandomForestClassifier\n",
    "from sklearn.metrics import classification_report, confusion_matrix, roc_auc_score\n",
    "from sklearn.preprocessing import LabelEncoder\n",
    "\n",
    "# 读取CSV文件\n",
    "df = pd.read_csv('cleaned_data/cleaned_charging_station_data.csv')\n",
    "df = df.reset_index(drop=True)\n",
    "# 显示数据的基本信息\n",
    "\n",
    "\n",
    "df = df.drop(['is_weekend', 'time_of_day', 'is_holiday','is_work_hour','connector_unique_id','usage_last_24h','usage_last_7d','city_density_level','availability_24h_ago','availability_1week_ago','availability_change','relative_days'], axis=1)\n",
    "\n",
    "from sklearn.preprocessing import LabelEncoder\n",
    "df['station_name'] = df['station_name'].astype(str)\n",
    "le = LabelEncoder()\n",
    "df['station_name_encoded'] = le.fit_transform(df['station_name'])\n",
    "df = df.drop('station_name', axis=1)\n",
    "df['city_id_encoded'] = le.fit_transform(df['city_id'])\n",
    "df = df.drop('city_id', axis=1)\n",
    "\n",
    "X = df.drop('is_available', axis=1)\n",
    "y = df['is_available']\n",
    "\n",
    "# 创建周期性特征\n",
    "X['hour_sin'] = np.sin(X['hour'] * (2 * np.pi / 24))\n",
    "X['hour_cos'] = np.cos(X['hour'] * (2 * np.pi / 24))\n",
    "X['day_of_week_sin'] = np.sin(X['day_of_week'] * (2 * np.pi / 7))\n",
    "X['day_of_week_cos'] = np.cos(X['day_of_week'] * (2 * np.pi / 7))\n",
    "X = X.drop('hour', axis=1)\n",
    "X = X.drop('day_of_week', axis=1)\n",
    "\n",
    "\n",
    "# 分割数据集\n",
    "X_train, X_test, y_train, y_test = train_test_split(X, y, test_size=0.2, random_state=42)\n",
    "\n"
   ]
  },
  {
   "cell_type": "code",
   "execution_count": 4,
   "id": "5a0646dd-a537-4433-b0b8-8d7bf994e2e3",
   "metadata": {},
   "outputs": [
    {
     "name": "stdout",
     "output_type": "stream",
     "text": [
      "Classification Report:\n",
      "              precision    recall  f1-score   support\n",
      "\n",
      "           0       0.75      0.69      0.72    157087\n",
      "           1       0.89      0.92      0.91    441182\n",
      "\n",
      "    accuracy                           0.86    598269\n",
      "   macro avg       0.82      0.80      0.81    598269\n",
      "weighted avg       0.86      0.86      0.86    598269\n",
      "\n",
      "\n",
      "Confusion Matrix:\n",
      "[[108304  48783]\n",
      " [ 36121 405061]]\n",
      "\n",
      "AUC-ROC Score: 0.9171\n"
     ]
    }
   ],
   "source": [
    "\n",
    "\n",
    "# 在测试集上进行预测\n",
    "y_pred = loaded_rf.predict(X_test)\n",
    "y_pred_proba = loaded_rf.predict_proba(X_test)[:, 1]\n",
    "\n",
    "# 打印分类报告\n",
    "print(\"Classification Report:\")\n",
    "print(classification_report(y_test, y_pred))\n",
    "\n",
    "# 打印混淆矩阵\n",
    "print(\"\\nConfusion Matrix:\")\n",
    "cm = confusion_matrix(y_test, y_pred)\n",
    "print(cm)\n",
    "\n",
    "# 计算 AUC-ROC 分数\n",
    "auc_roc = roc_auc_score(y_test, y_pred_proba)\n",
    "print(f\"\\nAUC-ROC Score: {auc_roc:.4f}\")"
   ]
  }
 ],
 "metadata": {
  "kernelspec": {
   "display_name": "Python 3 (ipykernel)",
   "language": "python",
   "name": "python3"
  },
  "language_info": {
   "codemirror_mode": {
    "name": "ipython",
    "version": 3
   },
   "file_extension": ".py",
   "mimetype": "text/x-python",
   "name": "python",
   "nbconvert_exporter": "python",
   "pygments_lexer": "ipython3",
   "version": "3.12.3"
  }
 },
 "nbformat": 4,
 "nbformat_minor": 5
}
