{
 "cells": [
  {
   "cell_type": "code",
   "execution_count": 39,
   "id": "b791341a-62be-43c1-8b9c-cb68a2d366a7",
   "metadata": {},
   "outputs": [
    {
     "name": "stderr",
     "output_type": "stream",
     "text": [
      "C:\\Users\\85407\\AppData\\Local\\Temp\\ipykernel_19288\\3427081545.py:6: DtypeWarning: Columns (1,8) have mixed types. Specify dtype option on import or set low_memory=False.\n",
      "  df = pd.read_csv('charging_station_data_20240710_185957.csv')\n"
     ]
    },
    {
     "name": "stdout",
     "output_type": "stream",
     "text": [
      "<class 'pandas.core.frame.DataFrame'>\n",
      "RangeIndex: 654118 entries, 0 to 654117\n",
      "Data columns (total 14 columns):\n",
      " #   Column                Non-Null Count   Dtype  \n",
      "---  ------                --------------   -----  \n",
      " 0   city_id               654118 non-null  int64  \n",
      " 1   station_name          654118 non-null  object \n",
      " 2   connector_id          654118 non-null  int64  \n",
      " 3   coordinates_x         654118 non-null  float64\n",
      " 4   coordinates_y         654118 non-null  float64\n",
      " 5   postcode              654118 non-null  object \n",
      " 6   tariff_amount         632710 non-null  float64\n",
      " 7   tariff_connectionfee  241040 non-null  float64\n",
      " 8   max_chargerate        654118 non-null  object \n",
      " 9   plug_type             654118 non-null  object \n",
      " 10  connector_type        654118 non-null  object \n",
      " 11  datetime              654118 non-null  object \n",
      " 12  weather               347450 non-null  object \n",
      " 13  is_available          654118 non-null  int64  \n",
      "dtypes: float64(4), int64(3), object(7)\n",
      "memory usage: 69.9+ MB\n",
      "None\n",
      "\n",
      "空值数量:\n",
      "21408\n",
      "\n",
      "填充后的空值数量:\n",
      "0\n",
      "\n",
      "填充后的数据样本:\n",
      "       max_chargerate    plug_type connector_type  tariff_amount\n",
      "630960              7  type_2_plug             AC           0.40\n",
      "95012              52          ccs          Rapid           0.43\n",
      "82471              22  type_2_plug             AC           0.50\n",
      "568213             51          ccs          Rapid           0.50\n",
      "463643             22  type_2_plug             AC           0.43\n",
      "402961              7  type_2_plug             AC           0.15\n",
      "108178             50      chademo          Rapid           0.70\n",
      "386145              7  type_2_plug             AC           0.31\n",
      "417470              7  type_2_plug             AC           0.40\n",
      "394313              7  type_2_plug             AC           0.40\n",
      "\n",
      "每组的平均tariff_amount:\n",
      "max_chargerate  plug_type    connector_type        \n",
      "7               UNKNOWN      Rapid                     0.500000\n",
      "                type_2_plug  AC                        0.438707\n",
      "                             AC Controller/Receiver    0.450000\n",
      "                             UNKNOWN                   0.290000\n",
      "11              type_2_plug  AC                        0.303333\n",
      "                                                         ...   \n",
      "51              chademo      Rapid                     0.643333\n",
      "52              ccs          Rapid                     0.700000\n",
      "                chademo      Rapid                     0.700000\n",
      "7               type_2_plug  AC                        0.405405\n",
      "UNKNOWN         UNKNOWN      AC                        0.360000\n",
      "Name: tariff_amount, Length: 71, dtype: float64\n"
     ]
    }
   ],
   "source": [
    "# 导入必要的库\n",
    "import pandas as pd\n",
    "import numpy as np\n",
    "\n",
    "# 读取CSV文件\n",
    "df = pd.read_csv('charging_station_data_20240710_185957.csv')\n",
    "df = df.reset_index(drop=True)\n",
    "# 显示数据的基本信息\n",
    "print(df.info())\n",
    "\n",
    "# 检查tariff_amount列的空值数量\n",
    "print(\"\\n空值数量:\")\n",
    "print(df['tariff_amount'].isnull().sum())\n",
    "\n",
    "# 定义一个函数来填充tariff_amount的空值\n",
    "def fill_tariff_amount(group):\n",
    "    mask = group['tariff_amount'].isnull()\n",
    "    group.loc[mask, 'tariff_amount'] = group['tariff_amount'].mean()\n",
    "    return group\n",
    "\n",
    "# 按max_chargerate, plug_type, connector_type分组，并应用填充函数\n",
    "df = df.groupby(['max_chargerate', 'plug_type', 'connector_type'], group_keys=False).apply(fill_tariff_amount)\n",
    "\n",
    "# 再次检查tariff_amount列的空值数量\n",
    "print(\"\\n填充后的空值数量:\")\n",
    "print(df['tariff_amount'].isnull().sum())\n",
    "\n",
    "# 显示填充后的数据样本\n",
    "print(\"\\n填充后的数据样本:\")\n",
    "print(df[['max_chargerate', 'plug_type', 'connector_type', 'tariff_amount']].sample(10))\n",
    "\n",
    "# 检查填充是否正确\n",
    "print(\"\\n每组的平均tariff_amount:\")\n",
    "print(df.groupby(['max_chargerate', 'plug_type', 'connector_type'])['tariff_amount'].mean())"
   ]
  },
  {
   "cell_type": "code",
   "execution_count": 41,
   "id": "e17be0f9-05d1-4dd6-95b4-ca3122099e2f",
   "metadata": {
    "tags": []
   },
   "outputs": [
    {
     "name": "stdout",
     "output_type": "stream",
     "text": [
      "\n",
      "tariff_connectionfee 列的空值数量(填充前):\n",
      "413078\n",
      "\n",
      "tariff_connectionfee 列的空值数量(填充后):\n",
      "0\n",
      "\n",
      "填充后的数据样本:\n",
      "       station_name  tariff_amount  tariff_connectionfee\n",
      "340965        50713           0.15                   1.6\n",
      "472451        51628           0.45                   0.0\n",
      "410305        51766           0.30                   0.0\n",
      "588668        62268           0.40                   0.0\n",
      "194437        52710           0.40                   0.0\n",
      "143434        61736           0.40                   0.0\n",
      "619034        61719           0.45                   0.0\n",
      "108665        60762           0.45                   0.0\n",
      "408002        52223           0.15                   1.6\n",
      "535783        61141           0.55                   0.0\n",
      "\n",
      "tariff_connectionfee 列的基本统计信息:\n",
      "count    654118.000000\n",
      "mean          0.124746\n",
      "std           0.347083\n",
      "min           0.000000\n",
      "25%           0.000000\n",
      "50%           0.000000\n",
      "75%           0.000000\n",
      "max           2.000000\n",
      "Name: tariff_connectionfee, dtype: float64\n"
     ]
    }
   ],
   "source": [
    "# 检查 tariff_connectionfee 列的空值数量\n",
    "print(\"\\ntariff_connectionfee 列的空值数量(填充前):\")\n",
    "print(df['tariff_connectionfee'].isnull().sum())\n",
    "\n",
    "# 将 tariff_connectionfee 列的空值填充为 0\n",
    "df['tariff_connectionfee'] = df['tariff_connectionfee'].fillna(0)\n",
    "\n",
    "# 再次检查 tariff_connectionfee 列的空值数量,确保填充成功\n",
    "print(\"\\ntariff_connectionfee 列的空值数量(填充后):\")\n",
    "print(df['tariff_connectionfee'].isnull().sum())\n",
    "\n",
    "# 显示填充后的数据样本\n",
    "print(\"\\n填充后的数据样本:\")\n",
    "print(df[['station_name', 'tariff_amount', 'tariff_connectionfee']].sample(10))\n",
    "\n",
    "# 检查 tariff_connectionfee 列的基本统计信息\n",
    "print(\"\\ntariff_connectionfee 列的基本统计信息:\")\n",
    "print(df['tariff_connectionfee'].describe())"
   ]
  },
  {
   "cell_type": "code",
   "execution_count": 43,
   "id": "39e6eeda-7c6f-4813-afee-d42353c1c05b",
   "metadata": {
    "tags": []
   },
   "outputs": [
    {
     "name": "stdout",
     "output_type": "stream",
     "text": [
      "原始数据行数: 654118\n",
      "max_chargerate 中 'UNKNOWN' 的数量: 212\n",
      "plug_type 中 'UNKNOWN' 的数量: 4240\n",
      "connector_type 中 'UNKNOWN' 的数量: 212\n",
      "\n",
      "清理后的数据行数: 649666\n",
      "max_chargerate 中剩余 'UNKNOWN' 的数量: 0\n",
      "plug_type 中剩余 'UNKNOWN' 的数量: 0\n",
      "connector_type 中剩余 'UNKNOWN' 的数量: 0\n",
      "\n",
      "清理后的数据样本:\n",
      "       max_chargerate    plug_type connector_type  tariff_amount\n",
      "107721              7  type_2_plug             AC       0.300000\n",
      "629257             22  type_2_plug             AC       0.450000\n",
      "375848             22  type_2_plug             AC       0.400000\n",
      "177979             22  type_2_plug             AC       0.410033\n",
      "138356             22  type_2_plug             AC       0.250000\n",
      "539256              7  type_2_plug             AC       0.450000\n",
      "351681             22  type_2_plug             AC       0.450000\n",
      "577647              7  type_2_plug             AC       0.400000\n",
      "174813              7  type_2_plug             AC       0.300000\n",
      "520932             22  type_2_plug          Rapid       0.700000\n",
      "\n",
      "清理后数据的基本统计信息:\n",
      "       max_chargerate  tariff_amount\n",
      "count   649666.000000  649666.000000\n",
      "mean        23.263440       0.470382\n",
      "std         15.851823       0.449103\n",
      "min          0.000000       0.000000\n",
      "25%          7.000000       0.400000\n",
      "50%         22.000000       0.450000\n",
      "75%         22.000000       0.550000\n",
      "max        150.000000      34.000000\n"
     ]
    },
    {
     "name": "stderr",
     "output_type": "stream",
     "text": [
      "C:\\Users\\85407\\AppData\\Local\\Temp\\ipykernel_19288\\2060580324.py:26: SettingWithCopyWarning: \n",
      "A value is trying to be set on a copy of a slice from a DataFrame.\n",
      "Try using .loc[row_indexer,col_indexer] = value instead\n",
      "\n",
      "See the caveats in the documentation: https://pandas.pydata.org/pandas-docs/stable/user_guide/indexing.html#returning-a-view-versus-a-copy\n",
      "  df_cleaned['max_chargerate'] = pd.to_numeric(df_cleaned['max_chargerate'], errors='coerce')\n"
     ]
    }
   ],
   "source": [
    "# 显示原始数据的行数\n",
    "print(f\"原始数据行数: {len(df)}\")\n",
    "\n",
    "# 检查每列中 'UNKNOWN' 的数量\n",
    "columns_to_check = ['max_chargerate', 'plug_type', 'connector_type']\n",
    "for col in columns_to_check:\n",
    "    unknown_count = (df[col] == 'UNKNOWN').sum()\n",
    "    print(f\"{col} 中 'UNKNOWN' 的数量: {unknown_count}\")\n",
    "\n",
    "# 删除包含 'UNKNOWN' 的行\n",
    "df_cleaned = df[~df[columns_to_check].isin(['UNKNOWN']).any(axis=1)]\n",
    "\n",
    "# 显示清理后的数据行数\n",
    "print(f\"\\n清理后的数据行数: {len(df_cleaned)}\")\n",
    "\n",
    "# 再次检查是否还有 'UNKNOWN' 值\n",
    "for col in columns_to_check:\n",
    "    unknown_count = (df_cleaned[col] == 'UNKNOWN').sum()\n",
    "    print(f\"{col} 中剩余 'UNKNOWN' 的数量: {unknown_count}\")\n",
    "\n",
    "# 显示清理后的数据样本\n",
    "print(\"\\n清理后的数据样本:\")\n",
    "print(df_cleaned[columns_to_check + ['tariff_amount']].sample(10))\n",
    "\n",
    "# 将 max_chargerate 转换为数值类型（如果还不是的话）\n",
    "df_cleaned['max_chargerate'] = pd.to_numeric(df_cleaned['max_chargerate'], errors='coerce')\n",
    "\n",
    "# 显示清理后数据的基本统计信息\n",
    "print(\"\\n清理后数据的基本统计信息:\")\n",
    "print(df_cleaned[columns_to_check + ['tariff_amount']].describe())\n",
    "\n",
    "# 更新原始 DataFrame\n",
    "df = df_cleaned.copy()"
   ]
  },
  {
   "cell_type": "code",
   "execution_count": 45,
   "id": "5067a801-6de6-4276-9296-0f9f84a736ff",
   "metadata": {
    "tags": []
   },
   "outputs": [
    {
     "name": "stdout",
     "output_type": "stream",
     "text": [
      "Weather 列空值数量（处理前）:\n",
      "304568\n"
     ]
    },
    {
     "name": "stderr",
     "output_type": "stream",
     "text": [
      "C:\\Users\\85407\\AppData\\Local\\Temp\\ipykernel_19288\\1555002950.py:13: FutureWarning: Series.fillna with 'method' is deprecated and will raise in a future version. Use obj.ffill() or obj.bfill() instead.\n",
      "  group['weather'] = group['weather'].fillna(method='ffill')\n",
      "C:\\Users\\85407\\AppData\\Local\\Temp\\ipykernel_19288\\1555002950.py:14: FutureWarning: Series.fillna with 'method' is deprecated and will raise in a future version. Use obj.ffill() or obj.bfill() instead.\n",
      "  group['weather'] = group['weather'].fillna(method='bfill')\n"
     ]
    },
    {
     "name": "stdout",
     "output_type": "stream",
     "text": [
      "\n",
      "Weather 列空值数量（处理后）:\n",
      "0\n"
     ]
    }
   ],
   "source": [
    "# 确保 datetime 列是日期时间格式\n",
    "df['datetime'] = pd.to_datetime(df['datetime'])\n",
    "\n",
    "# 按 station_name 和 datetime 排序\n",
    "df = df.sort_values(['station_name', 'datetime'])\n",
    "\n",
    "# 检查 weather 列的空值数量（处理前）\n",
    "print(\"Weather 列空值数量（处理前）:\")\n",
    "print(df['weather'].isnull().sum())\n",
    "\n",
    "# 定义一个函数来填充 weather 列的空值\n",
    "def fill_weather(group):\n",
    "    group['weather'] = group['weather'].fillna(method='ffill')\n",
    "    group['weather'] = group['weather'].fillna(method='bfill')\n",
    "    return group\n",
    "\n",
    "# 对每个充电站分组应用填充函数\n",
    "df = df.groupby('station_name').apply(fill_weather)\n",
    "\n",
    "# 检查 weather 列的空值数量（处理后）\n",
    "print(\"\\nWeather 列空值数量（处理后）:\")\n",
    "print(df['weather'].isnull().sum())\n",
    "\n"
   ]
  },
  {
   "cell_type": "code",
   "execution_count": 47,
   "id": "13226b0a-62c6-4054-9123-386c6fa921ba",
   "metadata": {
    "tags": []
   },
   "outputs": [
    {
     "name": "stdout",
     "output_type": "stream",
     "text": [
      "处理后的 weather 列唯一值：\n",
      "['Rain' 'Clouds' 'Fog' 'Clear' 'Drizzle' 'Haze' 'Mist']\n",
      "\n",
      "天气种类及其频率：\n",
      "weather\n",
      "Clouds     570884\n",
      "Rain        58843\n",
      "Clear       18363\n",
      "Fog          1180\n",
      "Drizzle       286\n",
      "Haze           89\n",
      "Mist           21\n",
      "Name: count, dtype: int64\n",
      "\n",
      "所有引号已成功移除。\n",
      "\n",
      "处理后的数据样本：\n",
      "                    station_name            datetime weather\n",
      "station_name                                                \n",
      "50670        425846        50670 2024-06-19 08:00:00  Clouds\n",
      "61722        620164        61722 2024-06-20 08:00:00  Clouds\n",
      "51842        472151        51842 2024-06-18 14:00:00  Clouds\n",
      "50918        353291        50918 2024-06-17 03:00:00  Clouds\n",
      "53900        154611        53900 2024-06-18 18:00:00  Clouds\n",
      "54004        2441          54004 2024-06-16 04:00:00  Clouds\n",
      "52524        293268        52524 2024-06-20 12:00:00  Clouds\n",
      "60844        85699         60844 2024-06-18 06:00:00  Clouds\n",
      "60044        12409         60044 2024-06-16 08:00:00    Rain\n",
      "61775        616419        61775 2024-06-18 20:00:00  Clouds\n"
     ]
    }
   ],
   "source": [
    "# 定义一个函数来去除字符串两端的引号\n",
    "def remove_quotes(text):\n",
    "    if isinstance(text, str):\n",
    "        return text.strip(\"'\\\"\")\n",
    "    return text\n",
    "\n",
    "# 应用函数到 weather 列\n",
    "df['weather'] = df['weather'].apply(remove_quotes)\n",
    "\n",
    "# 检查处理结果\n",
    "print(\"处理后的 weather 列唯一值：\")\n",
    "print(df['weather'].unique())\n",
    "\n",
    "# 显示天气种类及其频率\n",
    "print(\"\\n天气种类及其频率：\")\n",
    "print(df['weather'].value_counts())\n",
    "\n",
    "# 显示包含引号的天气记录（如果还有的话）\n",
    "quotes = df[df['weather'].str.contains(\"'|\\\"\", na=False)]\n",
    "if not quotes.empty:\n",
    "    print(\"\\n仍然包含引号的记录：\")\n",
    "    print(quotes[['station_name', 'datetime', 'weather']])\n",
    "else:\n",
    "    print(\"\\n所有引号已成功移除。\")\n",
    "\n",
    "# 显示处理后的数据样本\n",
    "print(\"\\n处理后的数据样本：\")\n",
    "print(df[['station_name', 'datetime', 'weather']].sample(10))"
   ]
  },
  {
   "cell_type": "code",
   "execution_count": 49,
   "id": "90e01062-1aea-4b48-88f8-2b329cf1a1c7",
   "metadata": {
    "tags": []
   },
   "outputs": [
    {
     "name": "stdout",
     "output_type": "stream",
     "text": [
      "数据已成功输出到文件：cleaned_data\\cleaned_charging_station_data_20240710_193353.csv\n"
     ]
    }
   ],
   "source": [
    "import os\n",
    "from datetime import datetime\n",
    "\n",
    "# 获取当前日期和时间\n",
    "current_time = datetime.now().strftime(\"%Y%m%d_%H%M%S\")\n",
    "\n",
    "# 创建输出文件名\n",
    "output_filename = f\"cleaned_charging_station_data_{current_time}.csv\"\n",
    "\n",
    "# 确保输出目录存在\n",
    "output_dir = \"cleaned_data\"\n",
    "if not os.path.exists(output_dir):\n",
    "    os.makedirs(output_dir)\n",
    "\n",
    "# 构建完整的输出路径\n",
    "output_path = os.path.join(output_dir, output_filename)\n",
    "\n",
    "# 将数据框输出到CSV文件\n",
    "df.to_csv(output_path, index=False)\n",
    "\n",
    "print(f\"数据已成功输出到文件：{output_path}\")"
   ]
  },
  {
   "cell_type": "code",
   "execution_count": null,
   "id": "e3acd9ee-6fad-4e31-a15f-54aa6b051ce6",
   "metadata": {},
   "outputs": [],
   "source": []
  },
  {
   "cell_type": "code",
   "execution_count": null,
   "id": "b251f363-965a-4788-bab7-210d231f2694",
   "metadata": {},
   "outputs": [],
   "source": []
  },
  {
   "cell_type": "code",
   "execution_count": null,
   "id": "9aeb20aa-555b-42ab-8b0c-0362c828a91d",
   "metadata": {},
   "outputs": [],
   "source": []
  },
  {
   "cell_type": "code",
   "execution_count": null,
   "id": "b459f38b-f852-4d54-b837-d91a0f21fa93",
   "metadata": {},
   "outputs": [],
   "source": []
  },
  {
   "cell_type": "code",
   "execution_count": null,
   "id": "80b76cde-0db8-478d-b88b-3ba25e25e877",
   "metadata": {},
   "outputs": [],
   "source": []
  },
  {
   "cell_type": "code",
   "execution_count": null,
   "id": "a43c138d-4fae-4ecc-b1c6-af539c2bfafa",
   "metadata": {},
   "outputs": [],
   "source": []
  },
  {
   "cell_type": "code",
   "execution_count": null,
   "id": "594fee8b-7cdf-4548-a9bd-fe8375881da3",
   "metadata": {},
   "outputs": [],
   "source": []
  },
  {
   "cell_type": "code",
   "execution_count": null,
   "id": "0d9e848d-b69a-4072-9822-b0b749113596",
   "metadata": {},
   "outputs": [],
   "source": []
  },
  {
   "cell_type": "code",
   "execution_count": null,
   "id": "1477ff6a-5706-48fe-bd9e-ae35dc21b049",
   "metadata": {},
   "outputs": [],
   "source": []
  },
  {
   "cell_type": "code",
   "execution_count": null,
   "id": "64b32c38-464b-4678-9173-be5fcf4020de",
   "metadata": {},
   "outputs": [],
   "source": []
  }
 ],
 "metadata": {
  "kernelspec": {
   "display_name": "Python 3 (ipykernel)",
   "language": "python",
   "name": "python3"
  },
  "language_info": {
   "codemirror_mode": {
    "name": "ipython",
    "version": 3
   },
   "file_extension": ".py",
   "mimetype": "text/x-python",
   "name": "python",
   "nbconvert_exporter": "python",
   "pygments_lexer": "ipython3",
   "version": "3.11.5"
  }
 },
 "nbformat": 4,
 "nbformat_minor": 5
}
