{
 "cells": [
  {
   "cell_type": "code",
   "execution_count": 61,
   "id": "b791341a-62be-43c1-8b9c-cb68a2d366a7",
   "metadata": {},
   "outputs": [
    {
     "name": "stderr",
     "output_type": "stream",
     "text": [
      "/var/folders/65/gwq9096x7_dbpj8wqbnt8gy00000gn/T/ipykernel_20621/2155779481.py:6: DtypeWarning: Columns (1,8) have mixed types. Specify dtype option on import or set low_memory=False.\n",
      "  df = pd.read_csv('charging_station_data.csv')\n"
     ]
    },
    {
     "name": "stdout",
     "output_type": "stream",
     "text": [
      "<class 'pandas.core.frame.DataFrame'>\n",
      "RangeIndex: 3011648 entries, 0 to 3011647\n",
      "Data columns (total 14 columns):\n",
      " #   Column                Dtype  \n",
      "---  ------                -----  \n",
      " 0   city_id               int64  \n",
      " 1   station_name          object \n",
      " 2   connector_id          int64  \n",
      " 3   coordinates_x         float64\n",
      " 4   coordinates_y         float64\n",
      " 5   postcode              object \n",
      " 6   tariff_amount         float64\n",
      " 7   tariff_connectionfee  float64\n",
      " 8   max_chargerate        object \n",
      " 9   plug_type             object \n",
      " 10  connector_type        object \n",
      " 11  datetime              object \n",
      " 12  weather               object \n",
      " 13  is_available          int64  \n",
      "dtypes: float64(4), int64(3), object(7)\n",
      "memory usage: 321.7+ MB\n",
      "None\n",
      "\n",
      "空值数量:\n",
      "97707\n"
     ]
    },
    {
     "name": "stderr",
     "output_type": "stream",
     "text": [
      "/var/folders/65/gwq9096x7_dbpj8wqbnt8gy00000gn/T/ipykernel_20621/2155779481.py:22: DeprecationWarning: DataFrameGroupBy.apply operated on the grouping columns. This behavior is deprecated, and in a future version of pandas the grouping columns will be excluded from the operation. Either pass `include_groups=False` to exclude the groupings or explicitly select the grouping columns after groupby to silence this warning.\n",
      "  df = df.groupby(['max_chargerate', 'plug_type', 'connector_type'], group_keys=False).apply(fill_tariff_amount)\n"
     ]
    },
    {
     "name": "stdout",
     "output_type": "stream",
     "text": [
      "\n",
      "填充后的空值数量:\n",
      "0\n",
      "\n",
      "填充后的数据样本:\n",
      "        max_chargerate    plug_type connector_type  tariff_amount\n",
      "2339649             22  type_2_plug             AC           0.50\n",
      "514134              50          ccs          Rapid           0.55\n",
      "1709824              7  type_2_plug             AC           0.40\n",
      "324294              22  type_2_plug             AC           0.45\n",
      "712716              22  type_2_plug             AC           0.45\n",
      "395371              22  type_2_plug             AC           0.50\n",
      "1838219             50      chademo          Rapid           0.70\n",
      "1160247             22  type_2_plug             AC           0.31\n",
      "119324              50      chademo          Rapid           0.70\n",
      "1920198              7  type_2_plug             AC           0.45\n",
      "\n",
      "每组的平均tariff_amount:\n",
      "max_chargerate  plug_type    connector_type        \n",
      "0               type_2_plug  AC                        0.210000\n",
      "7               UNKNOWN      Rapid                     0.500000\n",
      "                type_2_plug  AC                        0.414937\n",
      "                             AC Controller/Receiver    0.450000\n",
      "                             UNKNOWN                   0.290000\n",
      "11              type_2_plug  AC                        0.400033\n",
      "15              type_2_plug  AC                        0.420014\n",
      "                             Rapid                     0.525000\n",
      "17              ccs          Rapid                     0.350000\n",
      "                chademo      Rapid                     0.350000\n",
      "21              ccs          Rapid                     0.500000\n",
      "                chademo      Rapid                     0.500000\n",
      "                type_2_plug  Rapid                     0.500000\n",
      "22              UNKNOWN      Rapid                     0.440667\n",
      "                ccs          Rapid                     0.457636\n",
      "                chademo      Rapid                     0.444148\n",
      "                type_2_plug  AC                        0.419101\n",
      "                             Rapid                     0.584378\n",
      "24              type_2_plug  Rapid                     0.500000\n",
      "25              UNKNOWN      Rapid                     0.600000\n",
      "                ccs          Rapid                     0.550000\n",
      "                chademo      Rapid                     0.550000\n",
      "30              UNKNOWN      Rapid                     0.535000\n",
      "35              ccs          Rapid                     0.589925\n",
      "                chademo      Rapid                     0.589925\n",
      "                type_2_plug  Rapid                     0.574872\n",
      "43              UNKNOWN      Rapid                     0.550000\n",
      "                ccs          Rapid                     0.558873\n",
      "                chademo      Rapid                     0.558873\n",
      "                type_2_plug  Rapid                     0.576808\n",
      "44              ccs          Rapid                     0.598281\n",
      "                chademo      Rapid                     0.598281\n",
      "                type_2_plug  Rapid                     0.559754\n",
      "50              ccs          AC                        0.400000\n",
      "                             Rapid                     0.575291\n",
      "                chademo      AC                        0.400000\n",
      "                             Rapid                     0.575996\n",
      "                type_2_plug  Rapid                     0.570000\n",
      "51              ccs          Rapid                     0.597576\n",
      "                chademo      Rapid                     0.597576\n",
      "52              ccs          Rapid                     0.590033\n",
      "                chademo      Rapid                     0.590033\n",
      "100             chademo      Ultra-Rapid               0.716780\n",
      "150             ccs          Ultra-Rapid               0.716780\n",
      "11              type_2_plug  AC                        0.400000\n",
      "22              type_2_plug  AC                        0.436211\n",
      "                             Rapid                     0.565322\n",
      "25              ccs          Rapid                     0.500000\n",
      "50              ccs          Rapid                     0.538266\n",
      "                chademo      Rapid                     0.538266\n",
      "51              ccs          Rapid                     0.618475\n",
      "                chademo      Rapid                     0.618475\n",
      "7               type_2_plug  AC                        0.934253\n",
      "75              ccs          iCharging                 0.050000\n",
      "                chademo      iCharging                 0.050000\n",
      "UNKNOWN         UNKNOWN      AC                        0.359939\n",
      "Name: tariff_amount, dtype: float64\n"
     ]
    }
   ],
   "source": [
    "# 导入必要的库\n",
    "import pandas as pd\n",
    "import numpy as np\n",
    "\n",
    "# 读取CSV文件\n",
    "df = pd.read_csv('charging_station_data.csv')\n",
    "df = df.reset_index(drop=True)\n",
    "# 显示数据的基本信息\n",
    "print(df.info())\n",
    "\n",
    "# 检查tariff_amount列的空值数量\n",
    "print(\"\\n空值数量:\")\n",
    "print(df['tariff_amount'].isnull().sum())\n",
    "\n",
    "# 定义一个函数来填充tariff_amount的空值\n",
    "def fill_tariff_amount(group):\n",
    "    mask = group['tariff_amount'].isnull()\n",
    "    group.loc[mask, 'tariff_amount'] = group['tariff_amount'].mean()\n",
    "    return group\n",
    "\n",
    "# 按max_chargerate, plug_type, connector_type分组，并应用填充函数\n",
    "df = df.groupby(['max_chargerate', 'plug_type', 'connector_type'], group_keys=False).apply(fill_tariff_amount)\n",
    "\n",
    "# 再次检查tariff_amount列的空值数量\n",
    "print(\"\\n填充后的空值数量:\")\n",
    "print(df['tariff_amount'].isnull().sum())\n",
    "\n",
    "# 显示填充后的数据样本\n",
    "print(\"\\n填充后的数据样本:\")\n",
    "print(df[['max_chargerate', 'plug_type', 'connector_type', 'tariff_amount']].sample(10))\n",
    "\n",
    "# 检查填充是否正确\n",
    "print(\"\\n每组的平均tariff_amount:\")\n",
    "print(df.groupby(['max_chargerate', 'plug_type', 'connector_type'])['tariff_amount'].mean())"
   ]
  },
  {
   "cell_type": "code",
   "execution_count": 62,
   "id": "e17be0f9-05d1-4dd6-95b4-ca3122099e2f",
   "metadata": {
    "tags": []
   },
   "outputs": [
    {
     "name": "stdout",
     "output_type": "stream",
     "text": [
      "\n",
      "tariff_connectionfee 列的空值数量(填充前):\n",
      "1902719\n",
      "\n",
      "tariff_connectionfee 列的空值数量(填充后):\n",
      "0\n",
      "\n",
      "填充后的数据样本:\n",
      "        station_name  tariff_amount  tariff_connectionfee\n",
      "916221         52025       0.370000                  0.00\n",
      "785544         51750       0.470000                  0.38\n",
      "2544932        61219       0.480000                  0.00\n",
      "1785606        53893       0.500000                  0.50\n",
      "2379781        60920       0.400000                  1.00\n",
      "38294          50289       0.419101                  0.00\n",
      "2778514        61843       0.480000                  0.00\n",
      "2221761        60573       0.450000                  0.00\n",
      "1692191        53583       0.400000                  0.00\n",
      "1682355        53557       0.600000                  0.00\n",
      "\n",
      "tariff_connectionfee 列的基本统计信息:\n",
      "count    3.011648e+06\n",
      "mean     1.247873e-01\n",
      "std      3.472551e-01\n",
      "min      0.000000e+00\n",
      "25%      0.000000e+00\n",
      "50%      0.000000e+00\n",
      "75%      0.000000e+00\n",
      "max      2.000000e+00\n",
      "Name: tariff_connectionfee, dtype: float64\n"
     ]
    }
   ],
   "source": [
    "# 检查 tariff_connectionfee 列的空值数量\n",
    "print(\"\\ntariff_connectionfee 列的空值数量(填充前):\")\n",
    "print(df['tariff_connectionfee'].isnull().sum())\n",
    "\n",
    "# 将 tariff_connectionfee 列的空值填充为 0\n",
    "df['tariff_connectionfee'] = df['tariff_connectionfee'].fillna(0)\n",
    "\n",
    "# 再次检查 tariff_connectionfee 列的空值数量,确保填充成功\n",
    "print(\"\\ntariff_connectionfee 列的空值数量(填充后):\")\n",
    "print(df['tariff_connectionfee'].isnull().sum())\n",
    "\n",
    "# 显示填充后的数据样本\n",
    "print(\"\\n填充后的数据样本:\")\n",
    "print(df[['station_name', 'tariff_amount', 'tariff_connectionfee']].sample(10))\n",
    "\n",
    "# 检查 tariff_connectionfee 列的基本统计信息\n",
    "print(\"\\ntariff_connectionfee 列的基本统计信息:\")\n",
    "print(df['tariff_connectionfee'].describe())"
   ]
  },
  {
   "cell_type": "code",
   "execution_count": 63,
   "id": "39e6eeda-7c6f-4813-afee-d42353c1c05b",
   "metadata": {
    "tags": []
   },
   "outputs": [
    {
     "name": "stdout",
     "output_type": "stream",
     "text": [
      "原始数据行数: 3011648\n",
      "max_chargerate 中 'UNKNOWN' 的数量: 979\n",
      "plug_type 中 'UNKNOWN' 的数量: 19327\n",
      "connector_type 中 'UNKNOWN' 的数量: 978\n",
      "\n",
      "清理后的数据行数: 2991343\n",
      "max_chargerate 中剩余 'UNKNOWN' 的数量: 0\n",
      "plug_type 中剩余 'UNKNOWN' 的数量: 0\n",
      "connector_type 中剩余 'UNKNOWN' 的数量: 0\n",
      "\n",
      "清理后的数据样本:\n",
      "        max_chargerate    plug_type connector_type  tariff_amount\n",
      "449882              22  type_2_plug             AC           0.49\n",
      "598809              50          ccs          Rapid           0.70\n",
      "1322893              7  type_2_plug             AC           0.47\n",
      "676878              51          ccs          Rapid           0.70\n",
      "1579160             22  type_2_plug             AC           0.42\n",
      "64218               22  type_2_plug             AC           0.45\n",
      "697264              22  type_2_plug          Rapid           0.45\n",
      "1282177             22  type_2_plug             AC           0.48\n",
      "1313404              7  type_2_plug             AC           0.40\n",
      "2312293             22  type_2_plug             AC           0.47\n"
     ]
    },
    {
     "name": "stderr",
     "output_type": "stream",
     "text": [
      "/var/folders/65/gwq9096x7_dbpj8wqbnt8gy00000gn/T/ipykernel_20621/2060580324.py:26: SettingWithCopyWarning: \n",
      "A value is trying to be set on a copy of a slice from a DataFrame.\n",
      "Try using .loc[row_indexer,col_indexer] = value instead\n",
      "\n",
      "See the caveats in the documentation: https://pandas.pydata.org/pandas-docs/stable/user_guide/indexing.html#returning-a-view-versus-a-copy\n",
      "  df_cleaned['max_chargerate'] = pd.to_numeric(df_cleaned['max_chargerate'], errors='coerce')\n"
     ]
    },
    {
     "name": "stdout",
     "output_type": "stream",
     "text": [
      "\n",
      "清理后数据的基本统计信息:\n",
      "       max_chargerate  tariff_amount\n",
      "count    2.991343e+06   2.991343e+06\n",
      "mean     2.324927e+01   4.701428e-01\n",
      "std      1.585277e+01   4.498947e-01\n",
      "min      0.000000e+00   0.000000e+00\n",
      "25%      7.000000e+00   4.000000e-01\n",
      "50%      2.200000e+01   4.500000e-01\n",
      "75%      2.200000e+01   5.500000e-01\n",
      "max      1.500000e+02   3.400000e+01\n"
     ]
    }
   ],
   "source": [
    "# 显示原始数据的行数\n",
    "print(f\"原始数据行数: {len(df)}\")\n",
    "\n",
    "# 检查每列中 'UNKNOWN' 的数量\n",
    "columns_to_check = ['max_chargerate', 'plug_type', 'connector_type']\n",
    "for col in columns_to_check:\n",
    "    unknown_count = (df[col] == 'UNKNOWN').sum()\n",
    "    print(f\"{col} 中 'UNKNOWN' 的数量: {unknown_count}\")\n",
    "\n",
    "# 删除包含 'UNKNOWN' 的行\n",
    "df_cleaned = df[~df[columns_to_check].isin(['UNKNOWN']).any(axis=1)]\n",
    "\n",
    "# 显示清理后的数据行数\n",
    "print(f\"\\n清理后的数据行数: {len(df_cleaned)}\")\n",
    "\n",
    "# 再次检查是否还有 'UNKNOWN' 值\n",
    "for col in columns_to_check:\n",
    "    unknown_count = (df_cleaned[col] == 'UNKNOWN').sum()\n",
    "    print(f\"{col} 中剩余 'UNKNOWN' 的数量: {unknown_count}\")\n",
    "\n",
    "# 显示清理后的数据样本\n",
    "print(\"\\n清理后的数据样本:\")\n",
    "print(df_cleaned[columns_to_check + ['tariff_amount']].sample(10))\n",
    "\n",
    "# 将 max_chargerate 转换为数值类型（如果还不是的话）\n",
    "df_cleaned['max_chargerate'] = pd.to_numeric(df_cleaned['max_chargerate'], errors='coerce')\n",
    "\n",
    "# 显示清理后数据的基本统计信息\n",
    "print(\"\\n清理后数据的基本统计信息:\")\n",
    "print(df_cleaned[columns_to_check + ['tariff_amount']].describe())\n",
    "\n",
    "# 更新原始 DataFrame\n",
    "df = df_cleaned.copy()"
   ]
  },
  {
   "cell_type": "code",
   "execution_count": 65,
   "id": "5067a801-6de6-4276-9296-0f9f84a736ff",
   "metadata": {
    "tags": []
   },
   "outputs": [
    {
     "name": "stdout",
     "output_type": "stream",
     "text": [
      "Weather 列空值数量（处理前）:\n",
      "493831\n"
     ]
    },
    {
     "name": "stderr",
     "output_type": "stream",
     "text": [
      "/var/folders/65/gwq9096x7_dbpj8wqbnt8gy00000gn/T/ipykernel_20621/1847465488.py:13: FutureWarning: Series.fillna with 'method' is deprecated and will raise in a future version. Use obj.ffill() or obj.bfill() instead.\n",
      "  group['weather'] = group['weather'].fillna(method='ffill')\n",
      "/var/folders/65/gwq9096x7_dbpj8wqbnt8gy00000gn/T/ipykernel_20621/1847465488.py:14: FutureWarning: Series.fillna with 'method' is deprecated and will raise in a future version. Use obj.ffill() or obj.bfill() instead.\n",
      "  group['weather'] = group['weather'].fillna(method='bfill')\n",
      "/var/folders/65/gwq9096x7_dbpj8wqbnt8gy00000gn/T/ipykernel_20621/1847465488.py:18: DeprecationWarning: DataFrameGroupBy.apply operated on the grouping columns. This behavior is deprecated, and in a future version of pandas the grouping columns will be excluded from the operation. Either pass `include_groups=False` to exclude the groupings or explicitly select the grouping columns after groupby to silence this warning.\n",
      "  df = df.groupby('station_name').apply(fill_weather)\n"
     ]
    },
    {
     "name": "stdout",
     "output_type": "stream",
     "text": [
      "\n",
      "Weather 列空值数量（处理后）:\n",
      "0\n",
      "\n",
      "索引信息:\n",
      "RangeIndex(start=0, stop=2991343, step=1)\n"
     ]
    }
   ],
   "source": [
    "# 确保 datetime 列是日期时间格式\n",
    "df['datetime'] = pd.to_datetime(df['datetime'])\n",
    "\n",
    "# 按 station_name 和 datetime 排序\n",
    "df = df.sort_values(['station_name', 'datetime'])\n",
    "\n",
    "# 检查 weather 列的空值数量（处理前）\n",
    "print(\"Weather 列空值数量（处理前）:\")\n",
    "print(df['weather'].isnull().sum())\n",
    "\n",
    "# 定义一个函数来填充 weather 列的空值\n",
    "def fill_weather(group):\n",
    "    group['weather'] = group['weather'].fillna(method='ffill')\n",
    "    group['weather'] = group['weather'].fillna(method='bfill')\n",
    "    return group\n",
    "\n",
    "# 对每个充电站分组应用填充函数\n",
    "df = df.groupby('station_name').apply(fill_weather)\n",
    "\n",
    "# 重置索引\n",
    "df = df.reset_index(drop=True)\n",
    "\n",
    "# 检查 weather 列的空值数量（处理后）\n",
    "print(\"\\nWeather 列空值数量（处理后）:\")\n",
    "print(df['weather'].isnull().sum())\n",
    "\n",
    "# 打印索引信息以确认\n",
    "print(\"\\n索引信息:\")\n",
    "print(df.index)"
   ]
  },
  {
   "cell_type": "code",
   "execution_count": 66,
   "id": "13226b0a-62c6-4054-9123-386c6fa921ba",
   "metadata": {
    "tags": []
   },
   "outputs": [
    {
     "name": "stdout",
     "output_type": "stream",
     "text": [
      "处理后的 weather 列唯一值：\n",
      "['Rain' 'Clouds' 'Fog' 'Clear' 'Drizzle' 'Mist' 'Haze']\n",
      "\n",
      "天气种类及其频率：\n",
      "weather\n",
      "Clouds     2454997\n",
      "Rain        330784\n",
      "Clear       180369\n",
      "Mist         12628\n",
      "Drizzle       6734\n",
      "Haze          4554\n",
      "Fog           1277\n",
      "Name: count, dtype: int64\n",
      "\n",
      "所有引号已成功移除。\n",
      "\n",
      "处理后的数据样本：\n",
      "        station_name            datetime weather\n",
      "2470862        61135 2024-06-23 17:00:00  Clouds\n",
      "459013         51214 2024-07-01 12:00:00  Clouds\n",
      "802253         51854 2024-06-22 20:00:00  Clouds\n",
      "935487         52072 2024-06-16 11:00:00    Rain\n",
      "77674          50407 2024-06-18 04:00:00  Clouds\n",
      "1811520        54012 2024-06-25 23:00:00  Clouds\n",
      "50160          50327 2024-07-01 16:00:00  Clouds\n",
      "98614          50462 2024-06-26 01:00:00  Clouds\n",
      "1016355        52223 2024-07-01 20:00:00  Clouds\n",
      "2596568        61418 2024-06-23 19:00:00   Clear\n"
     ]
    }
   ],
   "source": [
    "# 定义一个函数来去除字符串两端的引号\n",
    "def remove_quotes(text):\n",
    "    if isinstance(text, str):\n",
    "        return text.strip(\"'\\\"\")\n",
    "    return text\n",
    "\n",
    "# 应用函数到 weather 列\n",
    "df['weather'] = df['weather'].apply(remove_quotes)\n",
    "\n",
    "# 检查处理结果\n",
    "print(\"处理后的 weather 列唯一值：\")\n",
    "print(df['weather'].unique())\n",
    "\n",
    "# 显示天气种类及其频率\n",
    "print(\"\\n天气种类及其频率：\")\n",
    "print(df['weather'].value_counts())\n",
    "\n",
    "# 显示包含引号的天气记录（如果还有的话）\n",
    "quotes = df[df['weather'].str.contains(\"'|\\\"\", na=False)]\n",
    "if not quotes.empty:\n",
    "    print(\"\\n仍然包含引号的记录：\")\n",
    "    print(quotes[['station_name', 'datetime', 'weather']])\n",
    "else:\n",
    "    print(\"\\n所有引号已成功移除。\")\n",
    "\n",
    "# 显示处理后的数据样本\n",
    "print(\"\\n处理后的数据样本：\")\n",
    "print(df[['station_name', 'datetime', 'weather']].sample(10))"
   ]
  },
  {
   "cell_type": "code",
   "execution_count": 67,
   "id": "8cb2c7fd-8ad2-4f96-af00-165180283fa0",
   "metadata": {},
   "outputs": [],
   "source": [
    "df['datetime'] = pd.to_datetime(df['datetime'])\n",
    "df['hour'] = df['datetime'].dt.hour\n",
    "df['day_of_week'] = df['datetime'].dt.dayofweek\n",
    "df['is_weekend'] = df['day_of_week'].isin([5, 6]).astype(int)\n",
    "df['is_holiday'] = ((df['datetime'].dt.dayofweek.isin([5, 6])) | \n",
    "                    ((df['datetime'].dt.dayofweek == 4) & (df['hour'] >= 18))).astype(int)\n",
    "df['time_of_day'] = pd.cut(df['hour'], bins=[0, 6, 12, 18, 24], labels=['Night', 'Morning', 'Afternoon', 'Evening'])\n",
    "df['is_work_hour'] = ((df['day_of_week'].isin([0,1,2,3,4])) & (df['hour'].between(9, 17))).astype(int)"
   ]
  },
  {
   "cell_type": "code",
   "execution_count": 68,
   "id": "4c9875e3-1de4-4b01-a11b-e3c75dd6f1d9",
   "metadata": {},
   "outputs": [],
   "source": [
    "import pandas as pd\n",
    "import numpy as np\n",
    "from sklearn.preprocessing import LabelEncoder\n",
    "from sklearn.ensemble import IsolationForest\n",
    "from sklearn.ensemble import RandomForestRegressor\n",
    "import matplotlib.pyplot as plt\n",
    "import seaborn as sns\n"
   ]
  },
  {
   "cell_type": "code",
   "execution_count": 69,
   "id": "3b0d724d-f49c-4c0c-8907-1b13c96aacac",
   "metadata": {},
   "outputs": [],
   "source": [
    "from sklearn.preprocessing import OneHotEncoder\n",
    "import pandas as pd\n",
    "\n",
    "# 创建 OneHotEncoder 对象\n",
    "ohe = OneHotEncoder(sparse_output=False, handle_unknown='ignore')\n",
    "\n",
    "# 对 'plug_type' 进行独热编码\n",
    "plug_type_encoded = ohe.fit_transform(df[['plug_type']])\n",
    "plug_type_columns = [f'plug_type_{cat}' for cat in ohe.categories_[0]]\n",
    "df_plug_type = pd.DataFrame(plug_type_encoded, columns=plug_type_columns, index=df.index)\n",
    "\n",
    "# 对 'connector_type' 进行独热编码\n",
    "connector_type_encoded = ohe.fit_transform(df[['connector_type']])\n",
    "connector_type_columns = [f'connector_type_{cat}' for cat in ohe.categories_[0]]\n",
    "df_connector_type = pd.DataFrame(connector_type_encoded, columns=connector_type_columns, index=df.index)\n",
    "\n",
    "# 对 'weather' 进行独热编码\n",
    "weather_encoded = ohe.fit_transform(df[['weather']])\n",
    "weather_columns = [f'weather_{cat}' for cat in ohe.categories_[0]]\n",
    "df_weather = pd.DataFrame(weather_encoded, columns=weather_columns, index=df.index)\n",
    "\n",
    "# 将编码后的特征合并到原始数据框\n",
    "df = pd.concat([df, df_plug_type, df_connector_type, df_weather], axis=1)"
   ]
  },
  {
   "cell_type": "code",
   "execution_count": 70,
   "id": "2dc7e386-f1f4-4cff-afa1-2b99a0b69d81",
   "metadata": {},
   "outputs": [],
   "source": [
    "# 确保 station_name 和 connector_id 都是字符串类型\n",
    "df['station_name'] = df['station_name'].astype(str)\n",
    "df['connector_id'] = df['connector_id'].astype(str)\n",
    "\n",
    "# 使用 str.cat 方法创建 connector_unique_id\n",
    "df['connector_unique_id'] = df['station_name'].str.cat(df['connector_id'], sep='_')"
   ]
  },
  {
   "cell_type": "code",
   "execution_count": 71,
   "id": "dd92484f-f3b8-4923-82d2-2200ed371161",
   "metadata": {},
   "outputs": [],
   "source": [
    "df['connector_avg_usage'] = 1 - df.groupby('connector_unique_id')['is_available'].transform('mean')"
   ]
  },
  {
   "cell_type": "code",
   "execution_count": 76,
   "id": "7318ac6c-d96b-40e0-b75c-41dc91279f79",
   "metadata": {},
   "outputs": [],
   "source": [
    "df['station_avg_usage'] = 1 - df.groupby('station_name')['is_available'].transform('mean')"
   ]
  },
  {
   "cell_type": "code",
   "execution_count": 79,
   "id": "1b3c06a2-09e9-4b3f-aa1d-d5e7fbf7f1ce",
   "metadata": {},
   "outputs": [],
   "source": [
    "df = df.sort_values(['station_name', 'connector_id', 'datetime'])"
   ]
  },
  {
   "cell_type": "code",
   "execution_count": 83,
   "id": "5d186e0e-150c-4a72-bbef-dfe31bad5503",
   "metadata": {},
   "outputs": [],
   "source": [
    "df['usage_last_24h'] = df.groupby('connector_unique_id')['is_available'].transform(\n",
    "    lambda x: 1 - x.rolling(window=24, min_periods=1).mean()\n",
    ")"
   ]
  },
  {
   "cell_type": "code",
   "execution_count": 84,
   "id": "b64d1cc6-fc01-40b0-adaa-4245cad54e8f",
   "metadata": {},
   "outputs": [
    {
     "name": "stdout",
     "output_type": "stream",
     "text": [
      "[None]\n",
      "Index(['city_id', 'station_name', 'connector_id', 'coordinates_x',\n",
      "       'coordinates_y', 'postcode', 'tariff_amount', 'tariff_connectionfee',\n",
      "       'max_chargerate', 'plug_type', 'connector_type', 'datetime', 'weather',\n",
      "       'is_available', 'hour', 'day_of_week', 'is_weekend', 'is_holiday',\n",
      "       'time_of_day', 'is_work_hour', 'plug_type_ccs', 'plug_type_chademo',\n",
      "       'plug_type_type_2_plug', 'connector_type_AC',\n",
      "       'connector_type_AC Controller/Receiver', 'connector_type_Rapid',\n",
      "       'connector_type_Ultra-Rapid', 'connector_type_iCharging',\n",
      "       'weather_Clear', 'weather_Clouds', 'weather_Drizzle', 'weather_Fog',\n",
      "       'weather_Haze', 'weather_Mist', 'weather_Rain', 'connector_unique_id',\n",
      "       'connector_avg_usage', 'station_avg_usage', 'usage_last_24h'],\n",
      "      dtype='object')\n",
      "   city_id station_name connector_id  coordinates_x  coordinates_y  postcode  \\\n",
      "0       80        50035            1       -4.61764       57.21494  IV63 7YA   \n",
      "2       80        50035            1       -4.61764       57.21494  IV63 7YA   \n",
      "4       80        50035            1       -4.61764       57.21494  IV63 7YA   \n",
      "6       80        50035            1       -4.61764       57.21494  IV63 7YA   \n",
      "8       80        50035            1       -4.61764       57.21494  IV63 7YA   \n",
      "\n",
      "   tariff_amount  tariff_connectionfee  max_chargerate    plug_type  ...  \\\n",
      "0           0.75                   1.5               7  type_2_plug  ...   \n",
      "2           0.75                   1.5               7  type_2_plug  ...   \n",
      "4           0.75                   1.5               7  type_2_plug  ...   \n",
      "6           0.75                   1.5               7  type_2_plug  ...   \n",
      "8           0.75                   1.5               7  type_2_plug  ...   \n",
      "\n",
      "  weather_Clouds weather_Drizzle weather_Fog  weather_Haze  weather_Mist  \\\n",
      "0            0.0             0.0         0.0           0.0           0.0   \n",
      "2            0.0             0.0         0.0           0.0           0.0   \n",
      "4            0.0             0.0         0.0           0.0           0.0   \n",
      "6            0.0             0.0         0.0           0.0           0.0   \n",
      "8            0.0             0.0         0.0           0.0           0.0   \n",
      "\n",
      "   weather_Rain  connector_unique_id  connector_avg_usage station_avg_usage  \\\n",
      "0           1.0              50035_1                  1.0               1.0   \n",
      "2           1.0              50035_1                  1.0               1.0   \n",
      "4           1.0              50035_1                  1.0               1.0   \n",
      "6           1.0              50035_1                  1.0               1.0   \n",
      "8           1.0              50035_1                  1.0               1.0   \n",
      "\n",
      "   usage_last_24h  \n",
      "0             1.0  \n",
      "2             1.0  \n",
      "4             1.0  \n",
      "6             1.0  \n",
      "8             1.0  \n",
      "\n",
      "[5 rows x 39 columns]\n"
     ]
    }
   ],
   "source": [
    "print(df.index.names)  # 查看索引名称\n",
    "print(df.columns)      # 查看列名\n",
    "print(df.head())       # 查看前几行数据"
   ]
  },
  {
   "cell_type": "code",
   "execution_count": 85,
   "id": "75c7571a-ef47-472c-bd44-0276c493b6f7",
   "metadata": {},
   "outputs": [
    {
     "name": "stdout",
     "output_type": "stream",
     "text": [
      "   city_id station_name connector_id  coordinates_x  coordinates_y  postcode  \\\n",
      "0       80        50035            1       -4.61764       57.21494  IV63 7YA   \n",
      "2       80        50035            1       -4.61764       57.21494  IV63 7YA   \n",
      "4       80        50035            1       -4.61764       57.21494  IV63 7YA   \n",
      "6       80        50035            1       -4.61764       57.21494  IV63 7YA   \n",
      "8       80        50035            1       -4.61764       57.21494  IV63 7YA   \n",
      "\n",
      "   tariff_amount  tariff_connectionfee  max_chargerate    plug_type  ...  \\\n",
      "0           0.75                   1.5               7  type_2_plug  ...   \n",
      "2           0.75                   1.5               7  type_2_plug  ...   \n",
      "4           0.75                   1.5               7  type_2_plug  ...   \n",
      "6           0.75                   1.5               7  type_2_plug  ...   \n",
      "8           0.75                   1.5               7  type_2_plug  ...   \n",
      "\n",
      "  weather_Clouds weather_Drizzle weather_Fog  weather_Haze  weather_Mist  \\\n",
      "0            0.0             0.0         0.0           0.0           0.0   \n",
      "2            0.0             0.0         0.0           0.0           0.0   \n",
      "4            0.0             0.0         0.0           0.0           0.0   \n",
      "6            0.0             0.0         0.0           0.0           0.0   \n",
      "8            0.0             0.0         0.0           0.0           0.0   \n",
      "\n",
      "   weather_Rain  connector_unique_id  connector_avg_usage station_avg_usage  \\\n",
      "0           1.0              50035_1                  1.0               1.0   \n",
      "2           1.0              50035_1                  1.0               1.0   \n",
      "4           1.0              50035_1                  1.0               1.0   \n",
      "6           1.0              50035_1                  1.0               1.0   \n",
      "8           1.0              50035_1                  1.0               1.0   \n",
      "\n",
      "   usage_last_24h  \n",
      "0             1.0  \n",
      "2             1.0  \n",
      "4             1.0  \n",
      "6             1.0  \n",
      "8             1.0  \n",
      "\n",
      "[5 rows x 39 columns]\n",
      "<class 'pandas.core.frame.DataFrame'>\n",
      "Index: 2991343 entries, 0 to 2991342\n",
      "Data columns (total 39 columns):\n",
      " #   Column                                 Dtype         \n",
      "---  ------                                 -----         \n",
      " 0   city_id                                int64         \n",
      " 1   station_name                           object        \n",
      " 2   connector_id                           object        \n",
      " 3   coordinates_x                          float64       \n",
      " 4   coordinates_y                          float64       \n",
      " 5   postcode                               object        \n",
      " 6   tariff_amount                          float64       \n",
      " 7   tariff_connectionfee                   float64       \n",
      " 8   max_chargerate                         int64         \n",
      " 9   plug_type                              object        \n",
      " 10  connector_type                         object        \n",
      " 11  datetime                               datetime64[ns]\n",
      " 12  weather                                object        \n",
      " 13  is_available                           int64         \n",
      " 14  hour                                   int32         \n",
      " 15  day_of_week                            int32         \n",
      " 16  is_weekend                             int64         \n",
      " 17  is_holiday                             int64         \n",
      " 18  time_of_day                            category      \n",
      " 19  is_work_hour                           int64         \n",
      " 20  plug_type_ccs                          float64       \n",
      " 21  plug_type_chademo                      float64       \n",
      " 22  plug_type_type_2_plug                  float64       \n",
      " 23  connector_type_AC                      float64       \n",
      " 24  connector_type_AC Controller/Receiver  float64       \n",
      " 25  connector_type_Rapid                   float64       \n",
      " 26  connector_type_Ultra-Rapid             float64       \n",
      " 27  connector_type_iCharging               float64       \n",
      " 28  weather_Clear                          float64       \n",
      " 29  weather_Clouds                         float64       \n",
      " 30  weather_Drizzle                        float64       \n",
      " 31  weather_Fog                            float64       \n",
      " 32  weather_Haze                           float64       \n",
      " 33  weather_Mist                           float64       \n",
      " 34  weather_Rain                           float64       \n",
      " 35  connector_unique_id                    object        \n",
      " 36  connector_avg_usage                    float64       \n",
      " 37  station_avg_usage                      float64       \n",
      " 38  usage_last_24h                         float64       \n",
      "dtypes: category(1), datetime64[ns](1), float64(22), int32(2), int64(6), object(7)\n",
      "memory usage: 870.1+ MB\n",
      "None\n"
     ]
    }
   ],
   "source": [
    "# 显示处理后的前几行数据\n",
    "print(df.head())\n",
    "\n",
    "# 显示DataFrame的基本信息\n",
    "print(df.info())\n"
   ]
  },
  {
   "cell_type": "code",
   "execution_count": 16,
   "id": "b063c898-398b-4e04-a69c-1efe9a67f5e9",
   "metadata": {},
   "outputs": [],
   "source": [
    "\n",
    "\n",
    "\n"
   ]
  },
  {
   "cell_type": "code",
   "execution_count": 49,
   "id": "90e01062-1aea-4b48-88f8-2b329cf1a1c7",
   "metadata": {
    "tags": []
   },
   "outputs": [
    {
     "name": "stdout",
     "output_type": "stream",
     "text": [
      "数据已成功输出到文件：cleaned_data\\cleaned_charging_station_data_20240710_193353.csv\n"
     ]
    }
   ],
   "source": [
    "import os\n",
    "from datetime import datetime\n",
    "\n",
    "# 获取当前日期和时间\n",
    "current_time = datetime.now().strftime(\"%Y%m%d_%H%M%S\")\n",
    "\n",
    "# 创建输出文件名\n",
    "output_filename = f\"cleaned_charging_station_data_{current_time}.csv\"\n",
    "\n",
    "# 确保输出目录存在\n",
    "output_dir = \"cleaned_data\"\n",
    "if not os.path.exists(output_dir):\n",
    "    os.makedirs(output_dir)\n",
    "\n",
    "# 构建完整的输出路径\n",
    "output_path = os.path.join(output_dir, output_filename)\n",
    "\n",
    "# 将数据框输出到CSV文件\n",
    "df.to_csv(output_path, index=False)\n",
    "\n",
    "print(f\"数据已成功输出到文件：{output_path}\")"
   ]
  },
  {
   "cell_type": "code",
   "execution_count": null,
   "id": "e3acd9ee-6fad-4e31-a15f-54aa6b051ce6",
   "metadata": {},
   "outputs": [],
   "source": []
  },
  {
   "cell_type": "code",
   "execution_count": null,
   "id": "b251f363-965a-4788-bab7-210d231f2694",
   "metadata": {},
   "outputs": [],
   "source": []
  },
  {
   "cell_type": "code",
   "execution_count": null,
   "id": "9aeb20aa-555b-42ab-8b0c-0362c828a91d",
   "metadata": {},
   "outputs": [],
   "source": []
  },
  {
   "cell_type": "code",
   "execution_count": null,
   "id": "b459f38b-f852-4d54-b837-d91a0f21fa93",
   "metadata": {},
   "outputs": [],
   "source": []
  },
  {
   "cell_type": "code",
   "execution_count": null,
   "id": "80b76cde-0db8-478d-b88b-3ba25e25e877",
   "metadata": {},
   "outputs": [],
   "source": []
  },
  {
   "cell_type": "code",
   "execution_count": null,
   "id": "a43c138d-4fae-4ecc-b1c6-af539c2bfafa",
   "metadata": {},
   "outputs": [],
   "source": []
  },
  {
   "cell_type": "code",
   "execution_count": null,
   "id": "594fee8b-7cdf-4548-a9bd-fe8375881da3",
   "metadata": {},
   "outputs": [],
   "source": []
  },
  {
   "cell_type": "code",
   "execution_count": null,
   "id": "0d9e848d-b69a-4072-9822-b0b749113596",
   "metadata": {},
   "outputs": [],
   "source": []
  },
  {
   "cell_type": "code",
   "execution_count": null,
   "id": "1477ff6a-5706-48fe-bd9e-ae35dc21b049",
   "metadata": {},
   "outputs": [],
   "source": []
  },
  {
   "cell_type": "code",
   "execution_count": null,
   "id": "64b32c38-464b-4678-9173-be5fcf4020de",
   "metadata": {},
   "outputs": [],
   "source": []
  }
 ],
 "metadata": {
  "kernelspec": {
   "display_name": "Python 3 (ipykernel)",
   "language": "python",
   "name": "python3"
  },
  "language_info": {
   "codemirror_mode": {
    "name": "ipython",
    "version": 3
   },
   "file_extension": ".py",
   "mimetype": "text/x-python",
   "name": "python",
   "nbconvert_exporter": "python",
   "pygments_lexer": "ipython3",
   "version": "3.12.3"
  }
 },
 "nbformat": 4,
 "nbformat_minor": 5
}
